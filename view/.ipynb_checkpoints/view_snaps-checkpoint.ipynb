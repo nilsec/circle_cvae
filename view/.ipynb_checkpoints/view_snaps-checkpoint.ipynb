{
 "cells": [
  {
   "cell_type": "code",
   "execution_count": null,
   "metadata": {},
   "outputs": [],
   "source": []
  },
  {
   "cell_type": "code",
   "execution_count": 11,
   "metadata": {
    "scrolled": false
   },
   "outputs": [],
   "source": [
    "import nyroglancer\n",
    "import h5py\n",
    "import os\n",
    "import numpy as np\n",
    "\n",
    "\n",
    "snap = '/groups/turaga/home/ecksteinn/circle_cvae/models/snapshots/run_0/snap_26000.h5'\n",
    "\n",
    "f0 = h5py.File(snap, 'r')\n",
    "\n",
    "x = f0['x']\n",
    "y = f0['y']\n",
    "y_out = f0['y_out']\n",
    "\n",
    "voxel_size=(1,1,1)\n",
    "\n",
    "viewer = nyroglancer.Viewer()\n",
    "viewer.add(x, name='x', voxel_size=voxel_size)\n",
    "viewer.add(np.array(y, dtype=np.float32), name='y', voxel_size=voxel_size)\n",
    "viewer.add(np.array(y_out, dtype=np.float32), name='y_out', voxel_size=voxel_size)\n",
    "\n",
    "viewer.set_hostname('localhost:8800')\n",
    "viewer.show()\n",
    "f0.close()"
   ]
  },
  {
   "cell_type": "markdown",
   "metadata": {},
   "source": [
    "###### "
   ]
  },
  {
   "cell_type": "code",
   "execution_count": 9,
   "metadata": {},
   "outputs": [
    {
     "name": "stdout",
     "output_type": "stream",
     "text": [
      "[(19, 15), (18, 12), (8, 15), (11, 19), (8, 18), (9, 13), (9, 16), (15, 19), (19, 12), (15, 14), (8, 14), (8, 11), (8, 17), (11, 15), (9, 15), (8, 16), (13, 18), (9, 14), (19, 17), (17, 9), (18, 19), (14, 9), (20, 20), (20, 9), (10, 20), (12, 8), (11, 19), (18, 18), (19, 11), (8, 20), (17, 16), (19, 12), (16, 15), (8, 19), (11, 17), (20, 19), (11, 12), (9, 18), (8, 15), (11, 17), (13, 11), (16, 10), (8, 15), (10, 19), (11, 16), (12, 11), (12, 9), (19, 9), (13, 18), (8, 15), (15, 8), (14, 12), (14, 17), (10, 8), (20, 17), (15, 11), (15, 12), (14, 12), (18, 19), (12, 8), (10, 9), (20, 18), (20, 17), (17, 11), (12, 9), (8, 10), (16, 19), (19, 17), (13, 10), (14, 20), (19, 10), (19, 9), (16, 10), (17, 14), (12, 8), (12, 16), (11, 18), (16, 16), (11, 14), (18, 11), (19, 12), (9, 15), (18, 8), (20, 11), (12, 17), (20, 8), (10, 11), (11, 17), (11, 8), (16, 11), (8, 8), (17, 11), (17, 17), (15, 18), (12, 20), (16, 15), (9, 18), (16, 15), (10, 16), (11, 11), (16, 11), (14, 9), (19, 18), (15, 11), (11, 16), (12, 14), (15, 19), (11, 9), (17, 20), (15, 11), (20, 13), (15, 15), (8, 10), (15, 12), (9, 8), (15, 20), (9, 17), (15, 15), (9, 17), (12, 9), (10, 19), (13, 14), (16, 11), (12, 17), (19, 15), (13, 8), (12, 16), (11, 15), (8, 8), (15, 16), (17, 17), (10, 17), (20, 15), (20, 8), (19, 15), (20, 19), (11, 9), (9, 14), (8, 11), (11, 11), (20, 11), (20, 10), (9, 20), (16, 16), (18, 17), (19, 17), (10, 17), (19, 11), (14, 9), (20, 18), (9, 16), (18, 10), (9, 11), (15, 17), (15, 10), (10, 20), (10, 9), (14, 11), (17, 9), (17, 18), (12, 15), (12, 8), (10, 9), (18, 16), (16, 15), (20, 15), (20, 9), (15, 17), (11, 17), (15, 15), (18, 19), (11, 9), (8, 9), (9, 8), (10, 15), (17, 12), (9, 16), (12, 20), (12, 18), (16, 16), (9, 18), (8, 20), (16, 11), (16, 8), (14, 14), (9, 9), (8, 10), (17, 17), (15, 10), (16, 12), (12, 12), (10, 20), (13, 14), (19, 12), (8, 16), (8, 17), (20, 13), (20, 13), (13, 12), (19, 11)]\n"
     ]
    }
   ],
   "source": [
    "#Plot z if dim == 2\n",
    "import matplotlib.pyplot as plt\n",
    "import h5py\n",
    "import numpy as np\n",
    "\n",
    "snap = '/groups/turaga/home/ecksteinn/circle_cvae/models/snapshots/run_0/snap_1000.h5'\n",
    "f0 = h5py.File(snap, 'r')\n",
    "\n",
    "z = f0['z']\n",
    "y = f0['y']\n",
    "pos = [(np.where(np.array(y[i,:])>0.5)[0][0], \n",
    "        np.where(np.array(y[i,:])>0.5)[1][0]) for i in range(np.shape(y)[0])]\n",
    "print pos\n",
    "#plt.scatter(z[:,0], z[:,1])\n",
    "f0.close()"
   ]
  },
  {
   "cell_type": "code",
   "execution_count": null,
   "metadata": {},
   "outputs": [],
   "source": []
  }
 ],
 "metadata": {
  "kernelspec": {
   "display_name": "Python 2",
   "language": "python",
   "name": "python2"
  },
  "language_info": {
   "codemirror_mode": {
    "name": "ipython",
    "version": 2
   },
   "file_extension": ".py",
   "mimetype": "text/x-python",
   "name": "python",
   "nbconvert_exporter": "python",
   "pygments_lexer": "ipython2",
   "version": "2.7.13"
  }
 },
 "nbformat": 4,
 "nbformat_minor": 2
}
